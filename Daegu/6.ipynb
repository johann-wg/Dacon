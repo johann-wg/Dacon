{
 "cells": [
  {
   "cell_type": "code",
   "execution_count": 1,
   "metadata": {},
   "outputs": [],
   "source": [
    "import pandas as pd\n",
    "import numpy as np\n",
    "import matplotlib.pyplot as plt\n",
    "import seaborn as sns\n",
    "\n",
    "import warnings\n",
    "warnings.filterwarnings(action='ignore')\n",
    "plt.rcParams['font.family'] = 'Malgun Gothic'\n",
    "plt.rcParams['axes.unicode_minus'] = False"
   ]
  },
  {
   "cell_type": "markdown",
   "metadata": {},
   "source": [
    "- 심사 기준     : **RMSLE(Root Mean Squared Logarithmic Error)** of ECLO  \n",
    "- ECLO         : 인명피해 심각도(Equivalent Casualty Loss Only)  \n",
    "- **ECLO = 사망자수 * 10 + 중상자수 * 5 + 경상자수 * 3 + 부상자수 * 1**\n",
    "- 다른 유형의 사고들을 부상자 기준으로 환산하여 사고의 심각 정도와 위험도를 표현하는 방법  \n",
    "- 부상자       : 교통사고로 인하여 5일 미만의 치료를 요하는 부상을 입은 경우   \n",
    "- Public Score : 전체 테스트 데이터 중 30%  \n",
    "- Private Score: 전체 테스트 데이터 중 70%  "
   ]
  },
  {
   "cell_type": "code",
   "execution_count": 2,
   "metadata": {},
   "outputs": [],
   "source": [
    "train = pd.read_csv('/users/jjong/desktop/vscode/Dacon_src/Daegu/train.csv')\n",
    "test = pd.read_csv('/users/jjong/desktop/vscode/Dacon_src/Daegu/test.csv')\n",
    "sample = pd.read_csv('/users/jjong/desktop/vscode/Dacon_src/Daegu/sample_submission.csv')\n",
    "accident = pd.read_csv('/users/jjong/desktop/vscode/Dacon_src/Daegu/external_open/countrywide_accident.csv')\n",
    "cctv = pd.read_csv('/users/jjong/desktop/vscode/Dacon_src/Daegu/external_open/대구 CCTV 정보.csv', encoding='euc-kr')\n",
    "light = pd.read_csv('/users/jjong/desktop/vscode/Dacon_src/Daegu/external_open/대구 보안등 정보.csv', encoding='euc-kr')\n",
    "kid = pd.read_csv('/users/jjong/desktop/vscode/Dacon_src/Daegu/external_open/대구 어린이 보호 구역 정보.csv', encoding='euc-kr')\n",
    "park = pd.read_csv('/users/jjong/desktop/vscode/Dacon_src/Daegu/external_open/대구 주차장 정보.csv', encoding='euc-kr')"
   ]
  },
  {
   "cell_type": "code",
   "execution_count": 3,
   "metadata": {},
   "outputs": [],
   "source": [
    "def calculate_rmsle(y_true, y_pred):\n",
    "    \"\"\"\n",
    "    Root Mean Squared Logarithmic Error (RMSLE) 계산\n",
    "    \n",
    "    Parameters:\n",
    "    - y_true: 실제 값 배열\n",
    "    - y_pred: 예측 값 배열\n",
    "    \n",
    "    Returns:\n",
    "    - rmsle_score: RMSLE 점수\n",
    "    \"\"\"\n",
    "    assert len(y_true) == len(y_pred), \"입력 배열의 길이가 같아야 합니다.\"\n",
    "    \n",
    "    # 각 값에 1을 더하고 로그 취하기\n",
    "    log_diff = np.log1p(y_pred) - np.log1p(y_true)\n",
    "    \n",
    "    # 제곱하기\n",
    "    squared_log_diff = np.square(log_diff)\n",
    "    \n",
    "    # 평균 구하기\n",
    "    mean_squared_log_diff = np.mean(squared_log_diff)\n",
    "    \n",
    "    # 제곱근 취하기\n",
    "    rmsle_score = np.sqrt(mean_squared_log_diff)\n",
    "    \n",
    "    return rmsle_score"
   ]
  },
  {
   "cell_type": "code",
   "execution_count": 4,
   "metadata": {},
   "outputs": [],
   "source": [
    "train = pd.read_csv('/users/jjong/desktop/vscode/Dacon_src/Daegu/train.csv')\n",
    "test = pd.read_csv('/users/jjong/desktop/vscode/Dacon_src/Daegu/test.csv')\n",
    "sample = pd.read_csv('/users/jjong/desktop/vscode/Dacon_src/Daegu/sample_submission.csv')\n",
    "accident = pd.read_csv('/users/jjong/desktop/vscode/Dacon_src/Daegu/external_open/countrywide_accident.csv')\n",
    "cctv = pd.read_csv('/users/jjong/desktop/vscode/Dacon_src/Daegu/external_open/대구 CCTV 정보.csv', encoding='euc-kr')\n",
    "light = pd.read_csv('/users/jjong/desktop/vscode/Dacon_src/Daegu/external_open/대구 보안등 정보.csv', encoding='euc-kr')\n",
    "kid = pd.read_csv('/users/jjong/desktop/vscode/Dacon_src/Daegu/external_open/대구 어린이 보호 구역 정보.csv', encoding='euc-kr')\n",
    "park = pd.read_csv('/users/jjong/desktop/vscode/Dacon_src/Daegu/external_open/대구 주차장 정보.csv', encoding='euc-kr')"
   ]
  },
  {
   "cell_type": "code",
   "execution_count": 5,
   "metadata": {},
   "outputs": [],
   "source": [
    "train.drop(['ID', '사고일시', '시군구'], axis=1, inplace=True)\n",
    "test.drop(['ID', '사고일시', '시군구'], axis=1, inplace=True)\n",
    "accident.drop(['ID', '사고일시', '시군구'], axis=1, inplace=True)\n",
    "train = train.dropna()\n",
    "accident = accident.dropna()\n",
    "train = train[train['피해운전자 연령'] != '미분류']\n",
    "train = train[train['가해운전자 연령'] != '미분류']\n",
    "accident = accident[accident['피해운전자 연령'] != '미분류']\n",
    "accident = accident[accident['가해운전자 연령'] != '미분류']"
   ]
  },
  {
   "cell_type": "code",
   "execution_count": 6,
   "metadata": {},
   "outputs": [],
   "source": [
    "train['피해운전자 연령'] = train['피해운전자 연령'].apply(lambda x: '90' if x == '90세 이상' else x)\n",
    "train['피해운전자 연령'] = train['피해운전자 연령'].apply(lambda x: '98' if x == '98세 이상' else x)\n",
    "train['피해운전자 연령'] = train['피해운전자 연령'].apply(lambda x: '98' if x == '98 이상' else x)\n",
    "train['가해운전자 연령'] = train['가해운전자 연령'].apply(lambda x: '90' if x == '90세 이상' else x)\n",
    "train['가해운전자 연령'] = train['가해운전자 연령'].apply(lambda x: '90' if x == '98세 이상' else x)\n",
    "accident['가해운전자 연령'] = accident['가해운전자 연령'].apply(lambda x: '90' if x == '90세 이상' else x)\n",
    "accident['가해운전자 연령'] = accident['가해운전자 연령'].apply(lambda x: '90' if x == '98세 이상' else x)\n",
    "accident['피해운전자 연령'] = accident['피해운전자 연령'].apply(lambda x: '90' if x == '90세 이상' else x)\n",
    "accident['피해운전자 연령'] = accident['피해운전자 연령'].apply(lambda x: '98' if x == '98세 이상' else x)"
   ]
  },
  {
   "cell_type": "code",
   "execution_count": 7,
   "metadata": {},
   "outputs": [],
   "source": [
    "train['피해운전자 연령'] = [i.replace('세', '') for i in train['피해운전자 연령']]\n",
    "train['피해운전자 연령'] = train['피해운전자 연령'].astype(int)\n",
    "\n",
    "train['가해운전자 연령'] = [i.replace('세', '') for i in train['가해운전자 연령']]\n",
    "train['가해운전자 연령'] = train['가해운전자 연령'].astype(int)\n",
    "\n",
    "accident['피해운전자 연령'] = [i.replace('세', '') for i in accident['피해운전자 연령']]\n",
    "accident['피해운전자 연령'] = accident['피해운전자 연령'].astype(int)\n",
    "\n",
    "accident['가해운전자 연령'] = [i.replace('세', '') for i in accident['가해운전자 연령']]\n",
    "accident['가해운전자 연령'] = accident['가해운전자 연령'].astype(int)"
   ]
  },
  {
   "cell_type": "code",
   "execution_count": 8,
   "metadata": {},
   "outputs": [],
   "source": [
    "train['가해운전자 성별'] = train['가해운전자 성별'].apply(lambda x: 0 if x == '남' else 1 if x == '여' else 2)\n",
    "train['피해운전자 성별'] = train['피해운전자 성별'].apply(lambda x: 0 if x == '남' else 1 if x == '여' else 2)\n",
    "accident['피해운전자 성별'] = accident['피해운전자 성별'].apply(lambda x: 0 if x == '남' else 1 if x == '여' else 2)\n",
    "accident['가해운전자 성별'] = accident['가해운전자 성별'].apply(lambda x: 0 if x == '남' else 1 if x == '여' else 2)"
   ]
  },
  {
   "cell_type": "code",
   "execution_count": 9,
   "metadata": {},
   "outputs": [],
   "source": [
    "train['가해운전자 상해정도'] = train['가해운전자 상해정도'].apply(lambda x: 0 if x == '상해없음' else 1 if x == '부상신고' or x == '기타불명' else 3 if x == '경상' else 5 if x == '중상' else 10)\n",
    "train['피해운전자 상해정도'] = train['피해운전자 상해정도'].apply(lambda x: 0 if x == '상해없음' else 1 if x == '부상신고' or x == '기타불명' else 3 if x == '경상' else 5 if x == '중상' else 10)\n",
    "accident['피해운전자 상해정도'] = accident['피해운전자 상해정도'].apply(lambda x: 0 if x == '상해없음' else 1 if x == '부상신고' or x == '기타불명' else 3 if x == '경상' else 5 if x == '중상' else 10)\n",
    "accident['가해운전자 상해정도'] = accident['가해운전자 상해정도'].apply(lambda x: 0 if x == '상해없음' else 1 if x == '부상신고' or x == '기타불명' else 3 if x == '경상' else 5 if x == '중상' else 10)"
   ]
  },
  {
   "cell_type": "code",
   "execution_count": 10,
   "metadata": {},
   "outputs": [],
   "source": [
    "accident = accident[accident['노면상태'] != '해빙']\n",
    "accident = accident[accident['도로형태'] != '단일로 - 철길건널목']\n",
    "accident = accident[accident['사고유형 - 세부분류'] != '철길건널목']\n",
    "accident = accident[accident['사고유형'] != '철길건널목']"
   ]
  },
  {
   "cell_type": "code",
   "execution_count": 11,
   "metadata": {},
   "outputs": [],
   "source": [
    "accident['사고유형'] = accident['사고유형'].apply(lambda x: 0 if x == '차대차' else 1 if '차대사람' else 2)\n",
    "train['사고유형'] = train['사고유형'].apply(lambda x: 0 if x == '차대차' else 1  if'차대사람' else 2)\n",
    "test['사고유형'] = test['사고유형'].apply(lambda x: 0 if x == '차대차' else 1 if '차대사람' else 2)"
   ]
  },
  {
   "cell_type": "markdown",
   "metadata": {},
   "source": [
    "---"
   ]
  },
  {
   "cell_type": "code",
   "execution_count": 12,
   "metadata": {},
   "outputs": [],
   "source": [
    "from sklearn.model_selection import train_test_split, GridSearchCV\n",
    "\n",
    "acc_dummy = pd.get_dummies(accident[['기상상태', '도로형태', '사고유형', '요일', '노면상태']])\n",
    "train_dummy = pd.get_dummies(train[['기상상태', '도로형태', '사고유형', '요일', '노면상태']])\n",
    "test_dummy = pd.get_dummies(test[['기상상태', '도로형태', '사고유형', '요일', '노면상태']])\n",
    "\n",
    "y_acc = accident[['사망자수', '중상자수', '경상자수', '부상자수']]\n",
    "y_tra = train[['사망자수', '중상자수', '경상자수', '부상자수']]\n",
    "\n",
    "train_dummy = train_dummy.drop('기상상태_안개', axis=1)\n",
    "acc_dummy = acc_dummy.drop('기상상태_안개', axis=1)"
   ]
  },
  {
   "cell_type": "code",
   "execution_count": 48,
   "metadata": {},
   "outputs": [],
   "source": [
    "from sklearn.preprocessing import StandardScaler, MinMaxScaler\n",
    "\n",
    "# X_train, X_test, y_train, y_test = train_test_split(train_dummy, y_tra, test_size=0.2)\n",
    "# scaler = StandardScaler()\n",
    "# X_train_sc = scaler.fit_transform(X_train)\n",
    "# X_test_sc = scaler.transform(X_test)\n",
    "# test_sc = scaler.transform(test_dummy)\n",
    "\n",
    "scaler_2 = StandardScaler()\n",
    "X2_train_sc = scaler_2.fit_transform(acc_dummy)\n",
    "X2_test_sc = scaler_2.transform(train_dummy)\n",
    "test_sc = scaler_2.transform(test_dummy)\n",
    "y2_train = y_acc.copy()\n",
    "y2_test = y_tra.copy()\n",
    "\n",
    "# mm = MinMaxScaler()\n",
    "\n",
    "# X_train_mm = mm.fit_transform(X_train)\n",
    "# X_test_mm = mm.transform(X_test)\n",
    "# test_mm = mm.transform(test_dummy)"
   ]
  },
  {
   "cell_type": "code",
   "execution_count": 49,
   "metadata": {},
   "outputs": [
    {
     "name": "stdout",
     "output_type": "stream",
     "text": [
      "Model: \"model_8\"\n",
      "_________________________________________________________________\n",
      " Layer (type)                Output Shape              Param #   \n",
      "=================================================================\n",
      " input_10 (InputLayer)       [(None, 30)]              0         \n",
      "                                                                 \n",
      " dense_76 (Dense)            (None, 32)                992       \n",
      "                                                                 \n",
      " batch_normalization_68 (Ba  (None, 32)                128       \n",
      " tchNormalization)                                               \n",
      "                                                                 \n",
      " activation_42 (Activation)  (None, 32)                0         \n",
      "                                                                 \n",
      " dropout_64 (Dropout)        (None, 32)                0         \n",
      "                                                                 \n",
      " dense_77 (Dense)            (None, 32)                1056      \n",
      "                                                                 \n",
      " activation_43 (Activation)  (None, 32)                0         \n",
      "                                                                 \n",
      " batch_normalization_69 (Ba  (None, 32)                128       \n",
      " tchNormalization)                                               \n",
      "                                                                 \n",
      " dense_78 (Dense)            (None, 4)                 132       \n",
      "                                                                 \n",
      "=================================================================\n",
      "Total params: 2436 (9.52 KB)\n",
      "Trainable params: 2308 (9.02 KB)\n",
      "Non-trainable params: 128 (512.00 Byte)\n",
      "_________________________________________________________________\n"
     ]
    }
   ],
   "source": [
    "import tensorflow as tf\n",
    "from tensorflow.keras import layers\n",
    "from tensorflow.keras.models import Model\n",
    "from tensorflow.keras.callbacks import EarlyStopping\n",
    "from tensorflow.keras.optimizers import Adam\n",
    "\n",
    "# 1. 기본 모델 훈련\n",
    "input_shape = (X2_train_sc.shape[1],)\n",
    "output_shape = (4,)\n",
    "\n",
    "# 기본 모델 구성\n",
    "input_layer = layers.Input(shape=input_shape)\n",
    "x = layers.Dense(32)(input_layer)\n",
    "x = layers.BatchNormalization()(x)\n",
    "x = layers.Activation('gelu')(x) \n",
    "x = layers.Dropout(0.5)(x)  \n",
    "\n",
    "x = layers.Dense(64)(input_layer)\n",
    "x = layers.BatchNormalization()(x)\n",
    "x = layers.Activation('gelu')(x) \n",
    "x = layers.Dropout(0.5)(x)  \n",
    "\n",
    "x = layers.Dense(128)(input_layer)\n",
    "x = layers.BatchNormalization()(x)\n",
    "x = layers.Activation('gelu')(x) \n",
    "x = layers.Dropout(0.5)(x)  \n",
    "\n",
    "x = layers.Dense(256)(input_layer)\n",
    "x = layers.BatchNormalization()(x)\n",
    "x = layers.Activation('gelu')(x) \n",
    "x = layers.Dropout(0.5)(x)  \n",
    "\n",
    "x = layers.Dense(128)(input_layer)\n",
    "x = layers.BatchNormalization()(x)\n",
    "x = layers.Activation('gelu')(x) \n",
    "x = layers.Dropout(0.5)(x)  \n",
    "\n",
    "x = layers.Dense(64)(input_layer)\n",
    "x = layers.BatchNormalization()(x)\n",
    "x = layers.Activation('gelu')(x) \n",
    "x = layers.Dropout(0.5)(x)  \n",
    "\n",
    "x = layers.Dense(32)(input_layer)\n",
    "x = layers.BatchNormalization()(x)\n",
    "x = layers.Activation('gelu')(x) \n",
    "x = layers.Dropout(0.5)(x)  \n",
    "\n",
    "x = layers.Dense(32)(x)\n",
    "x = layers.Activation('gelu')(x) \n",
    "x = layers.BatchNormalization()(x) \n",
    "output_layer = layers.Dense(output_shape[0], activation='linear')(x)\n",
    "\n",
    "model = Model(inputs=input_layer, outputs=output_layer)\n",
    "optimizer = Adam(learning_rate=0.001)\n",
    "\n",
    "# 모델 컴파일 및 훈련\n",
    "model.compile(optimizer=optimizer, loss='mean_squared_error', metrics='mse')\n",
    "model.summary()"
   ]
  },
  {
   "cell_type": "code",
   "execution_count": 53,
   "metadata": {},
   "outputs": [
    {
     "name": "stdout",
     "output_type": "stream",
     "text": [
      "Model: \"model_9\"\n",
      "_________________________________________________________________\n",
      " Layer (type)                Output Shape              Param #   \n",
      "=================================================================\n",
      " input_11 (InputLayer)       [(None, 30)]              0         \n",
      "                                                                 \n",
      " dense_79 (Dense)            (None, 32)                992       \n",
      "                                                                 \n",
      " batch_normalization_70 (Ba  (None, 32)                128       \n",
      " tchNormalization)                                               \n",
      "                                                                 \n",
      " dropout_65 (Dropout)        (None, 32)                0         \n",
      "                                                                 \n",
      " dense_80 (Dense)            (None, 64)                2112      \n",
      "                                                                 \n",
      " batch_normalization_71 (Ba  (None, 64)                256       \n",
      " tchNormalization)                                               \n",
      "                                                                 \n",
      " dropout_66 (Dropout)        (None, 64)                0         \n",
      "                                                                 \n",
      " dense_81 (Dense)            (None, 128)               8320      \n",
      "                                                                 \n",
      " batch_normalization_72 (Ba  (None, 128)               512       \n",
      " tchNormalization)                                               \n",
      "                                                                 \n",
      " dropout_67 (Dropout)        (None, 128)               0         \n",
      "                                                                 \n",
      " dense_82 (Dense)            (None, 64)                8256      \n",
      "                                                                 \n",
      " batch_normalization_73 (Ba  (None, 64)                256       \n",
      " tchNormalization)                                               \n",
      "                                                                 \n",
      " dropout_68 (Dropout)        (None, 64)                0         \n",
      "                                                                 \n",
      " dense_83 (Dense)            (None, 32)                2080      \n",
      "                                                                 \n",
      " batch_normalization_74 (Ba  (None, 32)                128       \n",
      " tchNormalization)                                               \n",
      "                                                                 \n",
      " dropout_69 (Dropout)        (None, 32)                0         \n",
      "                                                                 \n",
      " dense_84 (Dense)            (None, 4)                 132       \n",
      "                                                                 \n",
      "=================================================================\n",
      "Total params: 23172 (90.52 KB)\n",
      "Trainable params: 22532 (88.02 KB)\n",
      "Non-trainable params: 640 (2.50 KB)\n",
      "_________________________________________________________________\n"
     ]
    }
   ],
   "source": [
    "from tensorflow.keras import layers, Model, optimizers\n",
    "\n",
    "# 1. 기본 모델 훈련\n",
    "input_shape = (X_train_sc.shape[1],)\n",
    "output_shape = 4\n",
    "\n",
    "# 입력 레이어\n",
    "input_layer = layers.Input(shape=input_shape)\n",
    "\n",
    "# Body\n",
    "x = layers.Dense(32, activation='relu')(input_layer)\n",
    "x = layers.BatchNormalization()(x)\n",
    "x = layers.Dropout(0.2)(x)\n",
    "\n",
    "x = layers.Dense(64, activation='relu')(x)\n",
    "x = layers.BatchNormalization()(x)\n",
    "x = layers.Dropout(0.2)(x)\n",
    "\n",
    "x = layers.Dense(128, activation='relu')(x)\n",
    "x = layers.BatchNormalization()(x)\n",
    "x = layers.Dropout(0.2)(x)\n",
    "\n",
    "# Header\n",
    "x = layers.Dense(64, activation='relu')(x)\n",
    "x = layers.BatchNormalization()(x)\n",
    "x = layers.Dropout(0.2)(x)\n",
    "\n",
    "x = layers.Dense(32, activation='relu')(x)\n",
    "x = layers.BatchNormalization()(x)\n",
    "x = layers.Dropout(0.2)(x)\n",
    "\n",
    "# 출력 레이어\n",
    "output_layer = layers.Dense(output_shape, activation='linear')(x)\n",
    "\n",
    "# 모델 생성\n",
    "model_2 = Model(inputs=input_layer, outputs=output_layer)\n",
    "\n",
    "# 옵티마이저 설정\n",
    "optimizer = optimizers.Adam(learning_rate=0.001)\n",
    "\n",
    "# 모델 컴파일\n",
    "model_2.compile(optimizer=optimizer, loss='mean_squared_error', metrics=['mse'])\n",
    "\n",
    "# 모델 요약 출력\n",
    "model_2.summary()\n"
   ]
  },
  {
   "cell_type": "code",
   "execution_count": 54,
   "metadata": {},
   "outputs": [
    {
     "name": "stdout",
     "output_type": "stream",
     "text": [
      "Epoch 1/100\n",
      "3542/3542 [==============================] - 11s 3ms/step - loss: 0.4550 - mse: 0.4550 - val_loss: 0.3353 - val_mse: 0.3353\n",
      "Epoch 2/100\n",
      "3542/3542 [==============================] - 10s 3ms/step - loss: 0.3815 - mse: 0.3815 - val_loss: 0.3356 - val_mse: 0.3356\n",
      "Epoch 3/100\n",
      "3542/3542 [==============================] - 10s 3ms/step - loss: 0.3803 - mse: 0.3803 - val_loss: 0.3347 - val_mse: 0.3347\n",
      "Epoch 4/100\n",
      "3542/3542 [==============================] - 10s 3ms/step - loss: 0.3798 - mse: 0.3798 - val_loss: 0.3347 - val_mse: 0.3347\n",
      "Epoch 5/100\n",
      "3542/3542 [==============================] - 10s 3ms/step - loss: 0.3795 - mse: 0.3795 - val_loss: 0.3344 - val_mse: 0.3344\n",
      "Epoch 6/100\n",
      "3542/3542 [==============================] - 10s 3ms/step - loss: 0.3794 - mse: 0.3794 - val_loss: 0.3351 - val_mse: 0.3351\n",
      "Epoch 7/100\n",
      "3542/3542 [==============================] - 10s 3ms/step - loss: 0.3794 - mse: 0.3794 - val_loss: 0.3346 - val_mse: 0.3346\n",
      "Epoch 8/100\n",
      "3542/3542 [==============================] - 10s 3ms/step - loss: 0.3793 - mse: 0.3793 - val_loss: 0.3345 - val_mse: 0.3345\n",
      "Epoch 9/100\n",
      "3542/3542 [==============================] - 10s 3ms/step - loss: 0.3792 - mse: 0.3792 - val_loss: 0.3345 - val_mse: 0.3345\n",
      "Epoch 10/100\n",
      "3542/3542 [==============================] - 10s 3ms/step - loss: 0.3793 - mse: 0.3793 - val_loss: 0.3343 - val_mse: 0.3343\n",
      "Epoch 11/100\n",
      "3542/3542 [==============================] - 10s 3ms/step - loss: 0.3792 - mse: 0.3792 - val_loss: 0.3349 - val_mse: 0.3349\n",
      "Epoch 12/100\n",
      "3542/3542 [==============================] - 10s 3ms/step - loss: 0.3791 - mse: 0.3791 - val_loss: 0.3343 - val_mse: 0.3343\n",
      "Epoch 13/100\n",
      "3542/3542 [==============================] - 10s 3ms/step - loss: 0.3792 - mse: 0.3792 - val_loss: 0.3345 - val_mse: 0.3345\n",
      "Epoch 14/100\n",
      "3542/3542 [==============================] - 10s 3ms/step - loss: 0.3792 - mse: 0.3792 - val_loss: 0.3346 - val_mse: 0.3346\n",
      "Epoch 15/100\n",
      "3542/3542 [==============================] - 10s 3ms/step - loss: 0.3791 - mse: 0.3791 - val_loss: 0.3344 - val_mse: 0.3344\n",
      "Epoch 16/100\n",
      "3542/3542 [==============================] - 10s 3ms/step - loss: 0.3791 - mse: 0.3791 - val_loss: 0.3344 - val_mse: 0.3344\n",
      "Epoch 17/100\n",
      "1341/3542 [==========>...................] - ETA: 5s - loss: 0.3852 - mse: 0.3852"
     ]
    },
    {
     "ename": "KeyboardInterrupt",
     "evalue": "",
     "output_type": "error",
     "traceback": [
      "\u001b[1;31m---------------------------------------------------------------------------\u001b[0m",
      "\u001b[1;31mKeyboardInterrupt\u001b[0m                         Traceback (most recent call last)",
      "\u001b[1;32mc:\\Users\\jjong\\Desktop\\vscode\\Dacon\\Daegu\\6.ipynb Cell 18\u001b[0m line \u001b[0;36m2\n\u001b[0;32m      <a href='vscode-notebook-cell:/c%3A/Users/jjong/Desktop/vscode/Dacon/Daegu/6.ipynb#X23sZmlsZQ%3D%3D?line=0'>1</a>\u001b[0m early_stopping \u001b[39m=\u001b[39m EarlyStopping(monitor\u001b[39m=\u001b[39m\u001b[39m'\u001b[39m\u001b[39mval_loss\u001b[39m\u001b[39m'\u001b[39m, patience\u001b[39m=\u001b[39m\u001b[39m15\u001b[39m, restore_best_weights\u001b[39m=\u001b[39m\u001b[39mTrue\u001b[39;00m)\n\u001b[1;32m----> <a href='vscode-notebook-cell:/c%3A/Users/jjong/Desktop/vscode/Dacon/Daegu/6.ipynb#X23sZmlsZQ%3D%3D?line=1'>2</a>\u001b[0m model_2\u001b[39m.\u001b[39;49mfit(X2_train_sc, y2_train, validation_split\u001b[39m=\u001b[39;49m\u001b[39m0.2\u001b[39;49m, batch_size\u001b[39m=\u001b[39;49m\u001b[39m128\u001b[39;49m, epochs\u001b[39m=\u001b[39;49m\u001b[39m100\u001b[39;49m, callbacks\u001b[39m=\u001b[39;49m[early_stopping])\n",
      "File \u001b[1;32mc:\\Users\\jjong\\Desktop\\vscode\\CWNU_ICT\\tensor\\Lib\\site-packages\\keras\\src\\utils\\traceback_utils.py:65\u001b[0m, in \u001b[0;36mfilter_traceback.<locals>.error_handler\u001b[1;34m(*args, **kwargs)\u001b[0m\n\u001b[0;32m     63\u001b[0m filtered_tb \u001b[39m=\u001b[39m \u001b[39mNone\u001b[39;00m\n\u001b[0;32m     64\u001b[0m \u001b[39mtry\u001b[39;00m:\n\u001b[1;32m---> 65\u001b[0m     \u001b[39mreturn\u001b[39;00m fn(\u001b[39m*\u001b[39;49margs, \u001b[39m*\u001b[39;49m\u001b[39m*\u001b[39;49mkwargs)\n\u001b[0;32m     66\u001b[0m \u001b[39mexcept\u001b[39;00m \u001b[39mException\u001b[39;00m \u001b[39mas\u001b[39;00m e:\n\u001b[0;32m     67\u001b[0m     filtered_tb \u001b[39m=\u001b[39m _process_traceback_frames(e\u001b[39m.\u001b[39m__traceback__)\n",
      "File \u001b[1;32mc:\\Users\\jjong\\Desktop\\vscode\\CWNU_ICT\\tensor\\Lib\\site-packages\\keras\\src\\engine\\training.py:1748\u001b[0m, in \u001b[0;36mModel.fit\u001b[1;34m(self, x, y, batch_size, epochs, verbose, callbacks, validation_split, validation_data, shuffle, class_weight, sample_weight, initial_epoch, steps_per_epoch, validation_steps, validation_batch_size, validation_freq, max_queue_size, workers, use_multiprocessing)\u001b[0m\n\u001b[0;32m   1746\u001b[0m logs \u001b[39m=\u001b[39m tmp_logs\n\u001b[0;32m   1747\u001b[0m end_step \u001b[39m=\u001b[39m step \u001b[39m+\u001b[39m data_handler\u001b[39m.\u001b[39mstep_increment\n\u001b[1;32m-> 1748\u001b[0m callbacks\u001b[39m.\u001b[39;49mon_train_batch_end(end_step, logs)\n\u001b[0;32m   1749\u001b[0m \u001b[39mif\u001b[39;00m \u001b[39mself\u001b[39m\u001b[39m.\u001b[39mstop_training:\n\u001b[0;32m   1750\u001b[0m     \u001b[39mbreak\u001b[39;00m\n",
      "File \u001b[1;32mc:\\Users\\jjong\\Desktop\\vscode\\CWNU_ICT\\tensor\\Lib\\site-packages\\keras\\src\\callbacks.py:475\u001b[0m, in \u001b[0;36mCallbackList.on_train_batch_end\u001b[1;34m(self, batch, logs)\u001b[0m\n\u001b[0;32m    468\u001b[0m \u001b[39m\u001b[39m\u001b[39m\"\"\"Calls the `on_train_batch_end` methods of its callbacks.\u001b[39;00m\n\u001b[0;32m    469\u001b[0m \n\u001b[0;32m    470\u001b[0m \u001b[39mArgs:\u001b[39;00m\n\u001b[0;32m    471\u001b[0m \u001b[39m    batch: Integer, index of batch within the current epoch.\u001b[39;00m\n\u001b[0;32m    472\u001b[0m \u001b[39m    logs: Dict. Aggregated metric results up until this batch.\u001b[39;00m\n\u001b[0;32m    473\u001b[0m \u001b[39m\"\"\"\u001b[39;00m\n\u001b[0;32m    474\u001b[0m \u001b[39mif\u001b[39;00m \u001b[39mself\u001b[39m\u001b[39m.\u001b[39m_should_call_train_batch_hooks:\n\u001b[1;32m--> 475\u001b[0m     \u001b[39mself\u001b[39;49m\u001b[39m.\u001b[39;49m_call_batch_hook(ModeKeys\u001b[39m.\u001b[39;49mTRAIN, \u001b[39m\"\u001b[39;49m\u001b[39mend\u001b[39;49m\u001b[39m\"\u001b[39;49m, batch, logs\u001b[39m=\u001b[39;49mlogs)\n",
      "File \u001b[1;32mc:\\Users\\jjong\\Desktop\\vscode\\CWNU_ICT\\tensor\\Lib\\site-packages\\keras\\src\\callbacks.py:322\u001b[0m, in \u001b[0;36mCallbackList._call_batch_hook\u001b[1;34m(self, mode, hook, batch, logs)\u001b[0m\n\u001b[0;32m    320\u001b[0m     \u001b[39mself\u001b[39m\u001b[39m.\u001b[39m_call_batch_begin_hook(mode, batch, logs)\n\u001b[0;32m    321\u001b[0m \u001b[39melif\u001b[39;00m hook \u001b[39m==\u001b[39m \u001b[39m\"\u001b[39m\u001b[39mend\u001b[39m\u001b[39m\"\u001b[39m:\n\u001b[1;32m--> 322\u001b[0m     \u001b[39mself\u001b[39;49m\u001b[39m.\u001b[39;49m_call_batch_end_hook(mode, batch, logs)\n\u001b[0;32m    323\u001b[0m \u001b[39melse\u001b[39;00m:\n\u001b[0;32m    324\u001b[0m     \u001b[39mraise\u001b[39;00m \u001b[39mValueError\u001b[39;00m(\n\u001b[0;32m    325\u001b[0m         \u001b[39mf\u001b[39m\u001b[39m\"\u001b[39m\u001b[39mUnrecognized hook: \u001b[39m\u001b[39m{\u001b[39;00mhook\u001b[39m}\u001b[39;00m\u001b[39m. \u001b[39m\u001b[39m\"\u001b[39m\n\u001b[0;32m    326\u001b[0m         \u001b[39m'\u001b[39m\u001b[39mExpected values are [\u001b[39m\u001b[39m\"\u001b[39m\u001b[39mbegin\u001b[39m\u001b[39m\"\u001b[39m\u001b[39m, \u001b[39m\u001b[39m\"\u001b[39m\u001b[39mend\u001b[39m\u001b[39m\"\u001b[39m\u001b[39m]\u001b[39m\u001b[39m'\u001b[39m\n\u001b[0;32m    327\u001b[0m     )\n",
      "File \u001b[1;32mc:\\Users\\jjong\\Desktop\\vscode\\CWNU_ICT\\tensor\\Lib\\site-packages\\keras\\src\\callbacks.py:345\u001b[0m, in \u001b[0;36mCallbackList._call_batch_end_hook\u001b[1;34m(self, mode, batch, logs)\u001b[0m\n\u001b[0;32m    342\u001b[0m     batch_time \u001b[39m=\u001b[39m time\u001b[39m.\u001b[39mtime() \u001b[39m-\u001b[39m \u001b[39mself\u001b[39m\u001b[39m.\u001b[39m_batch_start_time\n\u001b[0;32m    343\u001b[0m     \u001b[39mself\u001b[39m\u001b[39m.\u001b[39m_batch_times\u001b[39m.\u001b[39mappend(batch_time)\n\u001b[1;32m--> 345\u001b[0m \u001b[39mself\u001b[39;49m\u001b[39m.\u001b[39;49m_call_batch_hook_helper(hook_name, batch, logs)\n\u001b[0;32m    347\u001b[0m \u001b[39mif\u001b[39;00m \u001b[39mlen\u001b[39m(\u001b[39mself\u001b[39m\u001b[39m.\u001b[39m_batch_times) \u001b[39m>\u001b[39m\u001b[39m=\u001b[39m \u001b[39mself\u001b[39m\u001b[39m.\u001b[39m_num_batches_for_timing_check:\n\u001b[0;32m    348\u001b[0m     end_hook_name \u001b[39m=\u001b[39m hook_name\n",
      "File \u001b[1;32mc:\\Users\\jjong\\Desktop\\vscode\\CWNU_ICT\\tensor\\Lib\\site-packages\\keras\\src\\callbacks.py:393\u001b[0m, in \u001b[0;36mCallbackList._call_batch_hook_helper\u001b[1;34m(self, hook_name, batch, logs)\u001b[0m\n\u001b[0;32m    391\u001b[0m \u001b[39mfor\u001b[39;00m callback \u001b[39min\u001b[39;00m \u001b[39mself\u001b[39m\u001b[39m.\u001b[39mcallbacks:\n\u001b[0;32m    392\u001b[0m     hook \u001b[39m=\u001b[39m \u001b[39mgetattr\u001b[39m(callback, hook_name)\n\u001b[1;32m--> 393\u001b[0m     hook(batch, logs)\n\u001b[0;32m    395\u001b[0m \u001b[39mif\u001b[39;00m \u001b[39mself\u001b[39m\u001b[39m.\u001b[39m_check_timing:\n\u001b[0;32m    396\u001b[0m     \u001b[39mif\u001b[39;00m hook_name \u001b[39mnot\u001b[39;00m \u001b[39min\u001b[39;00m \u001b[39mself\u001b[39m\u001b[39m.\u001b[39m_hook_times:\n",
      "File \u001b[1;32mc:\\Users\\jjong\\Desktop\\vscode\\CWNU_ICT\\tensor\\Lib\\site-packages\\keras\\src\\callbacks.py:1093\u001b[0m, in \u001b[0;36mProgbarLogger.on_train_batch_end\u001b[1;34m(self, batch, logs)\u001b[0m\n\u001b[0;32m   1092\u001b[0m \u001b[39mdef\u001b[39;00m \u001b[39mon_train_batch_end\u001b[39m(\u001b[39mself\u001b[39m, batch, logs\u001b[39m=\u001b[39m\u001b[39mNone\u001b[39;00m):\n\u001b[1;32m-> 1093\u001b[0m     \u001b[39mself\u001b[39;49m\u001b[39m.\u001b[39;49m_batch_update_progbar(batch, logs)\n",
      "File \u001b[1;32mc:\\Users\\jjong\\Desktop\\vscode\\CWNU_ICT\\tensor\\Lib\\site-packages\\keras\\src\\callbacks.py:1169\u001b[0m, in \u001b[0;36mProgbarLogger._batch_update_progbar\u001b[1;34m(self, batch, logs)\u001b[0m\n\u001b[0;32m   1165\u001b[0m     \u001b[39mself\u001b[39m\u001b[39m.\u001b[39mseen \u001b[39m+\u001b[39m\u001b[39m=\u001b[39m add_seen\n\u001b[0;32m   1167\u001b[0m \u001b[39mif\u001b[39;00m \u001b[39mself\u001b[39m\u001b[39m.\u001b[39mverbose \u001b[39m==\u001b[39m \u001b[39m1\u001b[39m:\n\u001b[0;32m   1168\u001b[0m     \u001b[39m# Only block async when verbose = 1.\u001b[39;00m\n\u001b[1;32m-> 1169\u001b[0m     logs \u001b[39m=\u001b[39m tf_utils\u001b[39m.\u001b[39;49msync_to_numpy_or_python_type(logs)\n\u001b[0;32m   1170\u001b[0m     \u001b[39mself\u001b[39m\u001b[39m.\u001b[39mprogbar\u001b[39m.\u001b[39mupdate(\u001b[39mself\u001b[39m\u001b[39m.\u001b[39mseen, \u001b[39mlist\u001b[39m(logs\u001b[39m.\u001b[39mitems()), finalize\u001b[39m=\u001b[39m\u001b[39mFalse\u001b[39;00m)\n",
      "File \u001b[1;32mc:\\Users\\jjong\\Desktop\\vscode\\CWNU_ICT\\tensor\\Lib\\site-packages\\keras\\src\\utils\\tf_utils.py:694\u001b[0m, in \u001b[0;36msync_to_numpy_or_python_type\u001b[1;34m(tensors)\u001b[0m\n\u001b[0;32m    691\u001b[0m         \u001b[39mreturn\u001b[39;00m t\n\u001b[0;32m    692\u001b[0m     \u001b[39mreturn\u001b[39;00m t\u001b[39m.\u001b[39mitem() \u001b[39mif\u001b[39;00m np\u001b[39m.\u001b[39mndim(t) \u001b[39m==\u001b[39m \u001b[39m0\u001b[39m \u001b[39melse\u001b[39;00m t\n\u001b[1;32m--> 694\u001b[0m \u001b[39mreturn\u001b[39;00m tf\u001b[39m.\u001b[39;49mnest\u001b[39m.\u001b[39;49mmap_structure(_to_single_numpy_or_python_type, tensors)\n",
      "File \u001b[1;32mc:\\Users\\jjong\\Desktop\\vscode\\CWNU_ICT\\tensor\\Lib\\site-packages\\tensorflow\\python\\util\\nest.py:624\u001b[0m, in \u001b[0;36mmap_structure\u001b[1;34m(func, *structure, **kwargs)\u001b[0m\n\u001b[0;32m    538\u001b[0m \u001b[39m@tf_export\u001b[39m(\u001b[39m\"\u001b[39m\u001b[39mnest.map_structure\u001b[39m\u001b[39m\"\u001b[39m)\n\u001b[0;32m    539\u001b[0m \u001b[39mdef\u001b[39;00m \u001b[39mmap_structure\u001b[39m(func, \u001b[39m*\u001b[39mstructure, \u001b[39m*\u001b[39m\u001b[39m*\u001b[39mkwargs):\n\u001b[0;32m    540\u001b[0m \u001b[39m  \u001b[39m\u001b[39m\"\"\"Creates a new structure by applying `func` to each atom in `structure`.\u001b[39;00m\n\u001b[0;32m    541\u001b[0m \n\u001b[0;32m    542\u001b[0m \u001b[39m  Refer to [tf.nest](https://www.tensorflow.org/api_docs/python/tf/nest)\u001b[39;00m\n\u001b[1;32m   (...)\u001b[0m\n\u001b[0;32m    622\u001b[0m \u001b[39m    ValueError: If wrong keyword arguments are provided.\u001b[39;00m\n\u001b[0;32m    623\u001b[0m \u001b[39m  \"\"\"\u001b[39;00m\n\u001b[1;32m--> 624\u001b[0m   \u001b[39mreturn\u001b[39;00m nest_util\u001b[39m.\u001b[39;49mmap_structure(\n\u001b[0;32m    625\u001b[0m       nest_util\u001b[39m.\u001b[39;49mModality\u001b[39m.\u001b[39;49mCORE, func, \u001b[39m*\u001b[39;49mstructure, \u001b[39m*\u001b[39;49m\u001b[39m*\u001b[39;49mkwargs\n\u001b[0;32m    626\u001b[0m   )\n",
      "File \u001b[1;32mc:\\Users\\jjong\\Desktop\\vscode\\CWNU_ICT\\tensor\\Lib\\site-packages\\tensorflow\\python\\util\\nest_util.py:1054\u001b[0m, in \u001b[0;36mmap_structure\u001b[1;34m(modality, func, *structure, **kwargs)\u001b[0m\n\u001b[0;32m    957\u001b[0m \u001b[39m\u001b[39m\u001b[39m\"\"\"Creates a new structure by applying `func` to each atom in `structure`.\u001b[39;00m\n\u001b[0;32m    958\u001b[0m \n\u001b[0;32m    959\u001b[0m \u001b[39m- For Modality.CORE: Refer to\u001b[39;00m\n\u001b[1;32m   (...)\u001b[0m\n\u001b[0;32m   1051\u001b[0m \u001b[39m  ValueError: If wrong keyword arguments are provided.\u001b[39;00m\n\u001b[0;32m   1052\u001b[0m \u001b[39m\"\"\"\u001b[39;00m\n\u001b[0;32m   1053\u001b[0m \u001b[39mif\u001b[39;00m modality \u001b[39m==\u001b[39m Modality\u001b[39m.\u001b[39mCORE:\n\u001b[1;32m-> 1054\u001b[0m   \u001b[39mreturn\u001b[39;00m _tf_core_map_structure(func, \u001b[39m*\u001b[39;49mstructure, \u001b[39m*\u001b[39;49m\u001b[39m*\u001b[39;49mkwargs)\n\u001b[0;32m   1055\u001b[0m \u001b[39melif\u001b[39;00m modality \u001b[39m==\u001b[39m Modality\u001b[39m.\u001b[39mDATA:\n\u001b[0;32m   1056\u001b[0m   \u001b[39mreturn\u001b[39;00m _tf_data_map_structure(func, \u001b[39m*\u001b[39mstructure, \u001b[39m*\u001b[39m\u001b[39m*\u001b[39mkwargs)\n",
      "File \u001b[1;32mc:\\Users\\jjong\\Desktop\\vscode\\CWNU_ICT\\tensor\\Lib\\site-packages\\tensorflow\\python\\util\\nest_util.py:1094\u001b[0m, in \u001b[0;36m_tf_core_map_structure\u001b[1;34m(func, *structure, **kwargs)\u001b[0m\n\u001b[0;32m   1089\u001b[0m flat_structure \u001b[39m=\u001b[39m (_tf_core_flatten(s, expand_composites) \u001b[39mfor\u001b[39;00m s \u001b[39min\u001b[39;00m structure)\n\u001b[0;32m   1090\u001b[0m entries \u001b[39m=\u001b[39m \u001b[39mzip\u001b[39m(\u001b[39m*\u001b[39mflat_structure)\n\u001b[0;32m   1092\u001b[0m \u001b[39mreturn\u001b[39;00m _tf_core_pack_sequence_as(\n\u001b[0;32m   1093\u001b[0m     structure[\u001b[39m0\u001b[39m],\n\u001b[1;32m-> 1094\u001b[0m     [func(\u001b[39m*\u001b[39;49mx) \u001b[39mfor\u001b[39;49;00m x \u001b[39min\u001b[39;49;00m entries],\n\u001b[0;32m   1095\u001b[0m     expand_composites\u001b[39m=\u001b[39mexpand_composites,\n\u001b[0;32m   1096\u001b[0m )\n",
      "File \u001b[1;32mc:\\Users\\jjong\\Desktop\\vscode\\CWNU_ICT\\tensor\\Lib\\site-packages\\tensorflow\\python\\util\\nest_util.py:1094\u001b[0m, in \u001b[0;36m<listcomp>\u001b[1;34m(.0)\u001b[0m\n\u001b[0;32m   1089\u001b[0m flat_structure \u001b[39m=\u001b[39m (_tf_core_flatten(s, expand_composites) \u001b[39mfor\u001b[39;00m s \u001b[39min\u001b[39;00m structure)\n\u001b[0;32m   1090\u001b[0m entries \u001b[39m=\u001b[39m \u001b[39mzip\u001b[39m(\u001b[39m*\u001b[39mflat_structure)\n\u001b[0;32m   1092\u001b[0m \u001b[39mreturn\u001b[39;00m _tf_core_pack_sequence_as(\n\u001b[0;32m   1093\u001b[0m     structure[\u001b[39m0\u001b[39m],\n\u001b[1;32m-> 1094\u001b[0m     [func(\u001b[39m*\u001b[39;49mx) \u001b[39mfor\u001b[39;00m x \u001b[39min\u001b[39;00m entries],\n\u001b[0;32m   1095\u001b[0m     expand_composites\u001b[39m=\u001b[39mexpand_composites,\n\u001b[0;32m   1096\u001b[0m )\n",
      "File \u001b[1;32mc:\\Users\\jjong\\Desktop\\vscode\\CWNU_ICT\\tensor\\Lib\\site-packages\\keras\\src\\utils\\tf_utils.py:687\u001b[0m, in \u001b[0;36msync_to_numpy_or_python_type.<locals>._to_single_numpy_or_python_type\u001b[1;34m(t)\u001b[0m\n\u001b[0;32m    684\u001b[0m \u001b[39mdef\u001b[39;00m \u001b[39m_to_single_numpy_or_python_type\u001b[39m(t):\n\u001b[0;32m    685\u001b[0m     \u001b[39m# Don't turn ragged or sparse tensors to NumPy.\u001b[39;00m\n\u001b[0;32m    686\u001b[0m     \u001b[39mif\u001b[39;00m \u001b[39misinstance\u001b[39m(t, tf\u001b[39m.\u001b[39mTensor):\n\u001b[1;32m--> 687\u001b[0m         t \u001b[39m=\u001b[39m t\u001b[39m.\u001b[39;49mnumpy()\n\u001b[0;32m    688\u001b[0m     \u001b[39m# Strings, ragged and sparse tensors don't have .item(). Return them\u001b[39;00m\n\u001b[0;32m    689\u001b[0m     \u001b[39m# as-is.\u001b[39;00m\n\u001b[0;32m    690\u001b[0m     \u001b[39mif\u001b[39;00m \u001b[39mnot\u001b[39;00m \u001b[39misinstance\u001b[39m(t, (np\u001b[39m.\u001b[39mndarray, np\u001b[39m.\u001b[39mgeneric)):\n",
      "File \u001b[1;32mc:\\Users\\jjong\\Desktop\\vscode\\CWNU_ICT\\tensor\\Lib\\site-packages\\tensorflow\\python\\framework\\ops.py:1141\u001b[0m, in \u001b[0;36m_EagerTensorBase.numpy\u001b[1;34m(self)\u001b[0m\n\u001b[0;32m   1118\u001b[0m \u001b[39m\u001b[39m\u001b[39m\"\"\"Copy of the contents of this Tensor into a NumPy array or scalar.\u001b[39;00m\n\u001b[0;32m   1119\u001b[0m \n\u001b[0;32m   1120\u001b[0m \u001b[39mUnlike NumPy arrays, Tensors are immutable, so this method has to copy\u001b[39;00m\n\u001b[1;32m   (...)\u001b[0m\n\u001b[0;32m   1138\u001b[0m \u001b[39m    NumPy dtype.\u001b[39;00m\n\u001b[0;32m   1139\u001b[0m \u001b[39m\"\"\"\u001b[39;00m\n\u001b[0;32m   1140\u001b[0m \u001b[39m# TODO(slebedev): Consider avoiding a copy for non-CPU or remote tensors.\u001b[39;00m\n\u001b[1;32m-> 1141\u001b[0m maybe_arr \u001b[39m=\u001b[39m \u001b[39mself\u001b[39;49m\u001b[39m.\u001b[39;49m_numpy()  \u001b[39m# pylint: disable=protected-access\u001b[39;00m\n\u001b[0;32m   1142\u001b[0m \u001b[39mreturn\u001b[39;00m maybe_arr\u001b[39m.\u001b[39mcopy() \u001b[39mif\u001b[39;00m \u001b[39misinstance\u001b[39m(maybe_arr, np\u001b[39m.\u001b[39mndarray) \u001b[39melse\u001b[39;00m maybe_arr\n",
      "File \u001b[1;32mc:\\Users\\jjong\\Desktop\\vscode\\CWNU_ICT\\tensor\\Lib\\site-packages\\tensorflow\\python\\framework\\ops.py:1107\u001b[0m, in \u001b[0;36m_EagerTensorBase._numpy\u001b[1;34m(self)\u001b[0m\n\u001b[0;32m   1105\u001b[0m \u001b[39mdef\u001b[39;00m \u001b[39m_numpy\u001b[39m(\u001b[39mself\u001b[39m):\n\u001b[0;32m   1106\u001b[0m   \u001b[39mtry\u001b[39;00m:\n\u001b[1;32m-> 1107\u001b[0m     \u001b[39mreturn\u001b[39;00m \u001b[39mself\u001b[39;49m\u001b[39m.\u001b[39;49m_numpy_internal()\n\u001b[0;32m   1108\u001b[0m   \u001b[39mexcept\u001b[39;00m core\u001b[39m.\u001b[39m_NotOkStatusException \u001b[39mas\u001b[39;00m e:  \u001b[39m# pylint: disable=protected-access\u001b[39;00m\n\u001b[0;32m   1109\u001b[0m     \u001b[39mraise\u001b[39;00m core\u001b[39m.\u001b[39m_status_to_exception(e) \u001b[39mfrom\u001b[39;00m \u001b[39mNone\u001b[39;00m\n",
      "\u001b[1;31mKeyboardInterrupt\u001b[0m: "
     ]
    }
   ],
   "source": [
    "early_stopping = EarlyStopping(monitor='val_loss', patience=15, restore_best_weights=True)\n",
    "model_2.fit(X2_train_sc, y2_train, validation_split=0.2, batch_size=128, epochs=100, callbacks=[early_stopping])"
   ]
  },
  {
   "cell_type": "code",
   "execution_count": 55,
   "metadata": {},
   "outputs": [
    {
     "name": "stdout",
     "output_type": "stream",
     "text": [
      "1174/1174 [==============================] - 1s 579us/step\n"
     ]
    },
    {
     "data": {
      "text/plain": [
       "0.31130098464714384"
      ]
     },
     "execution_count": 55,
     "metadata": {},
     "output_type": "execute_result"
    }
   ],
   "source": [
    "pred = model.predict(X2_test_sc)\n",
    "pred = pd.DataFrame(pred)\n",
    "pred = pred.rename(columns={0:'사망자수', 1:'중상자수', 2:'경상자수', 3:'부상자수'})\n",
    "pred['ECLO'] = (pred['사망자수']*10) + (pred['중상자수']*5) + (pred['경상자수']*3) + (pred['부상자수']*1)\n",
    "calculate_rmsle(y2_test, pred)"
   ]
  },
  {
   "cell_type": "code",
   "execution_count": 57,
   "metadata": {},
   "outputs": [
    {
     "data": {
      "text/plain": [
       "((7514, 5), (10963, 2))"
      ]
     },
     "execution_count": 57,
     "metadata": {},
     "output_type": "execute_result"
    }
   ],
   "source": [
    "pred.shape, sample.shape"
   ]
  },
  {
   "cell_type": "code",
   "execution_count": 60,
   "metadata": {},
   "outputs": [
    {
     "name": "stdout",
     "output_type": "stream",
     "text": [
      "343/343 [==============================] - 0s 1ms/step\n"
     ]
    }
   ],
   "source": [
    "pred = model.predict(test_sc)\n",
    "pred = pd.DataFrame(pred)\n",
    "pred = pred.rename(columns={0:'사망자수', 1:'중상자수', 2:'경상자수', 3:'부상자수'})\n",
    "pred['ECLO'] = (pred['사망자수']*10) + (pred['중상자수']*5) + (pred['경상자수']*3) + (pred['부상자수']*1)\n",
    "\n",
    "sample.drop('ECLO', axis=1, inplace=True)\n",
    "sample['ECLO'] = pred['ECLO']\n",
    "sample.to_csv('submission8_DL4_.csv', index=False)"
   ]
  }
 ],
 "metadata": {
  "kernelspec": {
   "display_name": "tensor",
   "language": "python",
   "name": "python3"
  },
  "language_info": {
   "codemirror_mode": {
    "name": "ipython",
    "version": 3
   },
   "file_extension": ".py",
   "mimetype": "text/x-python",
   "name": "python",
   "nbconvert_exporter": "python",
   "pygments_lexer": "ipython3",
   "version": "3.11.1"
  }
 },
 "nbformat": 4,
 "nbformat_minor": 2
}
