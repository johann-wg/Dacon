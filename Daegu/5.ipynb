{
 "cells": [
  {
   "cell_type": "code",
   "execution_count": 1,
   "metadata": {},
   "outputs": [],
   "source": [
    "import pandas as pd\n",
    "import numpy as np\n",
    "import matplotlib.pyplot as plt\n",
    "import seaborn as sns\n",
    "\n",
    "import warnings\n",
    "warnings.filterwarnings(action='ignore')\n",
    "plt.rcParams['font.family'] = 'Malgun Gothic'\n",
    "plt.rcParams['axes.unicode_minus'] = False"
   ]
  },
  {
   "cell_type": "markdown",
   "metadata": {},
   "source": [
    "- 심사 기준     : **RMSLE(Root Mean Squared Logarithmic Error)** of ECLO  \n",
    "- ECLO         : 인명피해 심각도(Equivalent Casualty Loss Only)  \n",
    "- **ECLO = 사망자수 * 10 + 중상자수 * 5 + 경상자수 * 3 + 부상자수 * 1**\n",
    "- 다른 유형의 사고들을 부상자 기준으로 환산하여 사고의 심각 정도와 위험도를 표현하는 방법  \n",
    "- 부상자       : 교통사고로 인하여 5일 미만의 치료를 요하는 부상을 입은 경우   \n",
    "- Public Score : 전체 테스트 데이터 중 30%  \n",
    "- Private Score: 전체 테스트 데이터 중 70%  "
   ]
  },
  {
   "cell_type": "code",
   "execution_count": 2,
   "metadata": {},
   "outputs": [],
   "source": [
    "train = pd.read_csv('/users/jjong/desktop/vscode/Dacon_src/Daegu/train.csv')\n",
    "test = pd.read_csv('/users/jjong/desktop/vscode/Dacon_src/Daegu/test.csv')\n",
    "sample = pd.read_csv('/users/jjong/desktop/vscode/Dacon_src/Daegu/sample_submission.csv')\n",
    "accident = pd.read_csv('/users/jjong/desktop/vscode/Dacon_src/Daegu/external_open/countrywide_accident.csv')\n",
    "cctv = pd.read_csv('/users/jjong/desktop/vscode/Dacon_src/Daegu/external_open/대구 CCTV 정보.csv', encoding='euc-kr')\n",
    "light = pd.read_csv('/users/jjong/desktop/vscode/Dacon_src/Daegu/external_open/대구 보안등 정보.csv', encoding='euc-kr')\n",
    "kid = pd.read_csv('/users/jjong/desktop/vscode/Dacon_src/Daegu/external_open/대구 어린이 보호 구역 정보.csv', encoding='euc-kr')\n",
    "park = pd.read_csv('/users/jjong/desktop/vscode/Dacon_src/Daegu/external_open/대구 주차장 정보.csv', encoding='euc-kr')"
   ]
  },
  {
   "cell_type": "code",
   "execution_count": 3,
   "metadata": {},
   "outputs": [],
   "source": [
    "def calculate_rmsle(y_true, y_pred):\n",
    "    \"\"\"\n",
    "    Root Mean Squared Logarithmic Error (RMSLE) 계산\n",
    "    \n",
    "    Parameters:\n",
    "    - y_true: 실제 값 배열\n",
    "    - y_pred: 예측 값 배열\n",
    "    \n",
    "    Returns:\n",
    "    - rmsle_score: RMSLE 점수\n",
    "    \"\"\"\n",
    "    assert len(y_true) == len(y_pred), \"입력 배열의 길이가 같아야 합니다.\"\n",
    "    \n",
    "    # 각 값에 1을 더하고 로그 취하기\n",
    "    log_diff = np.log1p(y_pred) - np.log1p(y_true)\n",
    "    \n",
    "    # 제곱하기\n",
    "    squared_log_diff = np.square(log_diff)\n",
    "    \n",
    "    # 평균 구하기\n",
    "    mean_squared_log_diff = np.mean(squared_log_diff)\n",
    "    \n",
    "    # 제곱근 취하기\n",
    "    rmsle_score = np.sqrt(mean_squared_log_diff)\n",
    "    \n",
    "    return rmsle_score"
   ]
  },
  {
   "cell_type": "code",
   "execution_count": 4,
   "metadata": {},
   "outputs": [],
   "source": [
    "train = pd.read_csv('/users/jjong/desktop/vscode/Dacon_src/Daegu/train.csv')\n",
    "test = pd.read_csv('/users/jjong/desktop/vscode/Dacon_src/Daegu/test.csv')\n",
    "sample = pd.read_csv('/users/jjong/desktop/vscode/Dacon_src/Daegu/sample_submission.csv')\n",
    "accident = pd.read_csv('/users/jjong/desktop/vscode/Dacon_src/Daegu/external_open/countrywide_accident.csv')\n",
    "cctv = pd.read_csv('/users/jjong/desktop/vscode/Dacon_src/Daegu/external_open/대구 CCTV 정보.csv', encoding='euc-kr')\n",
    "light = pd.read_csv('/users/jjong/desktop/vscode/Dacon_src/Daegu/external_open/대구 보안등 정보.csv', encoding='euc-kr')\n",
    "kid = pd.read_csv('/users/jjong/desktop/vscode/Dacon_src/Daegu/external_open/대구 어린이 보호 구역 정보.csv', encoding='euc-kr')\n",
    "park = pd.read_csv('/users/jjong/desktop/vscode/Dacon_src/Daegu/external_open/대구 주차장 정보.csv', encoding='euc-kr')"
   ]
  },
  {
   "cell_type": "code",
   "execution_count": 5,
   "metadata": {},
   "outputs": [],
   "source": [
    "train.drop(['ID', '사고일시', '시군구'], axis=1, inplace=True)\n",
    "test.drop(['ID', '사고일시', '시군구'], axis=1, inplace=True)\n",
    "accident.drop(['ID', '사고일시', '시군구'], axis=1, inplace=True)\n",
    "train = train.dropna()\n",
    "accident = accident.dropna()\n",
    "train = train[train['피해운전자 연령'] != '미분류']\n",
    "train = train[train['가해운전자 연령'] != '미분류']\n",
    "accident = accident[accident['피해운전자 연령'] != '미분류']\n",
    "accident = accident[accident['가해운전자 연령'] != '미분류']"
   ]
  },
  {
   "cell_type": "code",
   "execution_count": 6,
   "metadata": {},
   "outputs": [],
   "source": [
    "train['피해운전자 연령'] = train['피해운전자 연령'].apply(lambda x: '90' if x == '90세 이상' else x)\n",
    "train['피해운전자 연령'] = train['피해운전자 연령'].apply(lambda x: '98' if x == '98세 이상' else x)\n",
    "train['피해운전자 연령'] = train['피해운전자 연령'].apply(lambda x: '98' if x == '98 이상' else x)\n",
    "train['가해운전자 연령'] = train['가해운전자 연령'].apply(lambda x: '90' if x == '90세 이상' else x)\n",
    "train['가해운전자 연령'] = train['가해운전자 연령'].apply(lambda x: '90' if x == '98세 이상' else x)\n",
    "accident['가해운전자 연령'] = accident['가해운전자 연령'].apply(lambda x: '90' if x == '90세 이상' else x)\n",
    "accident['가해운전자 연령'] = accident['가해운전자 연령'].apply(lambda x: '90' if x == '98세 이상' else x)\n",
    "accident['피해운전자 연령'] = accident['피해운전자 연령'].apply(lambda x: '90' if x == '90세 이상' else x)\n",
    "accident['피해운전자 연령'] = accident['피해운전자 연령'].apply(lambda x: '98' if x == '98세 이상' else x)"
   ]
  },
  {
   "cell_type": "code",
   "execution_count": 7,
   "metadata": {},
   "outputs": [],
   "source": [
    "train['피해운전자 연령'] = [i.replace('세', '') for i in train['피해운전자 연령']]\n",
    "train['피해운전자 연령'] = train['피해운전자 연령'].astype(int)\n",
    "\n",
    "train['가해운전자 연령'] = [i.replace('세', '') for i in train['가해운전자 연령']]\n",
    "train['가해운전자 연령'] = train['가해운전자 연령'].astype(int)\n",
    "\n",
    "accident['피해운전자 연령'] = [i.replace('세', '') for i in accident['피해운전자 연령']]\n",
    "accident['피해운전자 연령'] = accident['피해운전자 연령'].astype(int)\n",
    "\n",
    "accident['가해운전자 연령'] = [i.replace('세', '') for i in accident['가해운전자 연령']]\n",
    "accident['가해운전자 연령'] = accident['가해운전자 연령'].astype(int)"
   ]
  },
  {
   "cell_type": "code",
   "execution_count": 8,
   "metadata": {},
   "outputs": [],
   "source": [
    "train['가해운전자 성별'] = train['가해운전자 성별'].apply(lambda x: 0 if x == '남' else 1 if x == '여' else 2)\n",
    "train['피해운전자 성별'] = train['피해운전자 성별'].apply(lambda x: 0 if x == '남' else 1 if x == '여' else 2)\n",
    "accident['피해운전자 성별'] = accident['피해운전자 성별'].apply(lambda x: 0 if x == '남' else 1 if x == '여' else 2)\n",
    "accident['가해운전자 성별'] = accident['가해운전자 성별'].apply(lambda x: 0 if x == '남' else 1 if x == '여' else 2)"
   ]
  },
  {
   "cell_type": "code",
   "execution_count": 9,
   "metadata": {},
   "outputs": [],
   "source": [
    "train['가해운전자 상해정도'] = train['가해운전자 상해정도'].apply(lambda x: 0 if x == '상해없음' else 1 if x == '부상신고' or x == '기타불명' else 3 if x == '경상' else 5 if x == '중상' else 10)\n",
    "train['피해운전자 상해정도'] = train['피해운전자 상해정도'].apply(lambda x: 0 if x == '상해없음' else 1 if x == '부상신고' or x == '기타불명' else 3 if x == '경상' else 5 if x == '중상' else 10)\n",
    "accident['피해운전자 상해정도'] = accident['피해운전자 상해정도'].apply(lambda x: 0 if x == '상해없음' else 1 if x == '부상신고' or x == '기타불명' else 3 if x == '경상' else 5 if x == '중상' else 10)\n",
    "accident['가해운전자 상해정도'] = accident['가해운전자 상해정도'].apply(lambda x: 0 if x == '상해없음' else 1 if x == '부상신고' or x == '기타불명' else 3 if x == '경상' else 5 if x == '중상' else 10)"
   ]
  },
  {
   "cell_type": "code",
   "execution_count": 10,
   "metadata": {},
   "outputs": [],
   "source": [
    "accident = accident[accident['노면상태'] != '해빙']\n",
    "accident = accident[accident['도로형태'] != '단일로 - 철길건널목']\n",
    "accident = accident[accident['사고유형 - 세부분류'] != '철길건널목']\n",
    "accident = accident[accident['사고유형'] != '철길건널목']"
   ]
  },
  {
   "cell_type": "code",
   "execution_count": 11,
   "metadata": {},
   "outputs": [],
   "source": [
    "accident['사고유형'] = accident['사고유형'].apply(lambda x: 0 if x == '차대차' else 1 if '차대사람' else 2)\n",
    "train['사고유형'] = train['사고유형'].apply(lambda x: 0 if x == '차대차' else 1  if'차대사람' else 2)\n",
    "test['사고유형'] = test['사고유형'].apply(lambda x: 0 if x == '차대차' else 1 if '차대사람' else 2)"
   ]
  },
  {
   "cell_type": "markdown",
   "metadata": {},
   "source": [
    "---"
   ]
  },
  {
   "cell_type": "code",
   "execution_count": 38,
   "metadata": {},
   "outputs": [],
   "source": [
    "from sklearn.model_selection import train_test_split, GridSearchCV\n",
    "\n",
    "acc_dummy = pd.get_dummies(accident[['기상상태', '도로형태', '사고유형', '요일', '노면상태']])\n",
    "train_dummy = pd.get_dummies(train[['기상상태', '도로형태', '사고유형', '요일', '노면상태']])\n",
    "test_dummy = pd.get_dummies(test[['기상상태', '도로형태', '사고유형', '요일', '노면상태']])\n",
    "\n",
    "y_acc = accident[['사망자수', '중상자수', '경상자수', '부상자수']]\n",
    "y_tra = train[['사망자수', '중상자수', '경상자수', '부상자수']]\n",
    "\n",
    "train_dummy = train_dummy.drop('기상상태_안개', axis=1)\n",
    "acc_dummy = acc_dummy.drop('기상상태_안개', axis=1)\n",
    "\n",
    "\n"
   ]
  },
  {
   "cell_type": "code",
   "execution_count": 39,
   "metadata": {},
   "outputs": [],
   "source": [
    "from sklearn.preprocessing import StandardScaler\n",
    "\n",
    "# X_train, X_test, y_train, y_test = train_test_split(train_dummy, y_tra, test_size=0.2)\n",
    "# scaler = StandardScaler()\n",
    "# X_train_sc = scaler.fit_transform(X_train)\n",
    "# X_test_sc = scaler.transform(X_test)\n",
    "# test_sc = scaler.transform(test_dummy)\n",
    "\n",
    "# X_train, X_test, y_train, y_test = train_test_split(acc_dummy, y_acc, test_size=0.2)\n",
    "scaler_2 = StandardScaler()\n",
    "X2_train_sc = scaler_2.fit_transform(acc_dummy)\n",
    "X2_test_sc = scaler_2.transform(train_dummy)\n",
    "test_sc = scaler_2.transform(test_dummy)\n",
    "y2_train = y_acc.copy()\n",
    "y2_test = y_tra.copy()"
   ]
  },
  {
   "cell_type": "code",
   "execution_count": 16,
   "metadata": {},
   "outputs": [
    {
     "name": "stdout",
     "output_type": "stream",
     "text": [
      "Best Parameters: {'estimator__learning_rate': 0.01, 'estimator__max_depth': 3, 'estimator__n_estimators': 500}\n",
      "Best Score: -0.33218866258048413\n",
      "Time taken: 182.02 seconds\n"
     ]
    }
   ],
   "source": [
    "from sklearn.multioutput import MultiOutputRegressor\n",
    "from xgboost import XGBRegressor\n",
    "from sklearn.model_selection import train_test_split, GridSearchCV\n",
    "import time\n",
    "\n",
    "strat = time.time()\n",
    "\n",
    "# XGBoost 회귀 모델 초기화\n",
    "xgb_model = XGBRegressor()\n",
    "\n",
    "# 다중 출력 회귀를 위한 래퍼\n",
    "multioutput_model = MultiOutputRegressor(xgb_model)\n",
    "\n",
    "# 그리드 서치를 위한 파라미터 설정\n",
    "parameters = {\n",
    "    'estimator__n_estimators': [100, 300, 500],\n",
    "    'estimator__learning_rate': [0.001, 0.01, 0.1],\n",
    "    'estimator__max_depth': [3, 5, 7]\n",
    "}\n",
    "\n",
    "# 그리드 서치 객체 생성\n",
    "grid_search = GridSearchCV(multioutput_model, parameters, cv=3, scoring='neg_mean_squared_error')\n",
    "\n",
    "# 그리드 서치를 통한 모델 훈련\n",
    "grid_search.fit(X2_train_sc, y2_train)\n",
    "\n",
    "# 최적의 파라미터와 점수 출력\n",
    "best_parameters = grid_search.best_params_\n",
    "best_score = grid_search.best_score_\n",
    "\n",
    "print(f\"Best Parameters: {best_parameters}\")\n",
    "print(f\"Best Score: {best_score}\")\n",
    "\n",
    "# 최적의 파라미터를 가진 모델을 사용하여 테스트 데이터에 대한 예측\n",
    "best_model = grid_search.best_estimator_\n",
    "predictions = best_model.predict(X2_test_sc)\n",
    "\n",
    "end = time.time()\n",
    "print(f\"Time taken: {end - strat:.2f} seconds\")"
   ]
  },
  {
   "cell_type": "code",
   "execution_count": 40,
   "metadata": {},
   "outputs": [
    {
     "data": {
      "text/plain": [
       "0.2963762096518575"
      ]
     },
     "execution_count": 40,
     "metadata": {},
     "output_type": "execute_result"
    }
   ],
   "source": [
    "xgb = MultiOutputRegressor(XGBRegressor(learning_rate=0.01, max_depth=3, n_estimators=500))\n",
    "xgb.fit(X2_train_sc, y2_train)\n",
    "predictions = xgb.predict(X2_test_sc)\n",
    "calculate_rmsle(y2_test, predictions)"
   ]
  },
  {
   "cell_type": "code",
   "execution_count": 41,
   "metadata": {},
   "outputs": [
    {
     "data": {
      "text/html": [
       "<div>\n",
       "<style scoped>\n",
       "    .dataframe tbody tr th:only-of-type {\n",
       "        vertical-align: middle;\n",
       "    }\n",
       "\n",
       "    .dataframe tbody tr th {\n",
       "        vertical-align: top;\n",
       "    }\n",
       "\n",
       "    .dataframe thead th {\n",
       "        text-align: right;\n",
       "    }\n",
       "</style>\n",
       "<table border=\"1\" class=\"dataframe\">\n",
       "  <thead>\n",
       "    <tr style=\"text-align: right;\">\n",
       "      <th></th>\n",
       "      <th>사망자수</th>\n",
       "      <th>중상자수</th>\n",
       "      <th>경상자수</th>\n",
       "      <th>부상자수</th>\n",
       "      <th>ECLO</th>\n",
       "    </tr>\n",
       "  </thead>\n",
       "  <tbody>\n",
       "    <tr>\n",
       "      <th>0</th>\n",
       "      <td>0.028722</td>\n",
       "      <td>0.445947</td>\n",
       "      <td>0.571899</td>\n",
       "      <td>0.047743</td>\n",
       "      <td>4.280390</td>\n",
       "    </tr>\n",
       "    <tr>\n",
       "      <th>1</th>\n",
       "      <td>0.031110</td>\n",
       "      <td>0.381270</td>\n",
       "      <td>0.597757</td>\n",
       "      <td>0.065764</td>\n",
       "      <td>4.076479</td>\n",
       "    </tr>\n",
       "    <tr>\n",
       "      <th>2</th>\n",
       "      <td>0.009522</td>\n",
       "      <td>0.308217</td>\n",
       "      <td>1.263781</td>\n",
       "      <td>0.098719</td>\n",
       "      <td>5.526371</td>\n",
       "    </tr>\n",
       "    <tr>\n",
       "      <th>3</th>\n",
       "      <td>0.012303</td>\n",
       "      <td>0.257018</td>\n",
       "      <td>1.331500</td>\n",
       "      <td>0.107679</td>\n",
       "      <td>5.510296</td>\n",
       "    </tr>\n",
       "    <tr>\n",
       "      <th>4</th>\n",
       "      <td>0.009522</td>\n",
       "      <td>0.308217</td>\n",
       "      <td>1.263781</td>\n",
       "      <td>0.098719</td>\n",
       "      <td>5.526371</td>\n",
       "    </tr>\n",
       "    <tr>\n",
       "      <th>...</th>\n",
       "      <td>...</td>\n",
       "      <td>...</td>\n",
       "      <td>...</td>\n",
       "      <td>...</td>\n",
       "      <td>...</td>\n",
       "    </tr>\n",
       "    <tr>\n",
       "      <th>10958</th>\n",
       "      <td>0.022926</td>\n",
       "      <td>0.347062</td>\n",
       "      <td>1.860155</td>\n",
       "      <td>0.162095</td>\n",
       "      <td>7.707131</td>\n",
       "    </tr>\n",
       "    <tr>\n",
       "      <th>10959</th>\n",
       "      <td>0.012303</td>\n",
       "      <td>0.257018</td>\n",
       "      <td>1.331500</td>\n",
       "      <td>0.107679</td>\n",
       "      <td>5.510296</td>\n",
       "    </tr>\n",
       "    <tr>\n",
       "      <th>10960</th>\n",
       "      <td>0.012303</td>\n",
       "      <td>0.257018</td>\n",
       "      <td>1.331500</td>\n",
       "      <td>0.107679</td>\n",
       "      <td>5.510296</td>\n",
       "    </tr>\n",
       "    <tr>\n",
       "      <th>10961</th>\n",
       "      <td>0.007837</td>\n",
       "      <td>0.227020</td>\n",
       "      <td>1.354996</td>\n",
       "      <td>0.096675</td>\n",
       "      <td>5.375132</td>\n",
       "    </tr>\n",
       "    <tr>\n",
       "      <th>10962</th>\n",
       "      <td>0.007837</td>\n",
       "      <td>0.227020</td>\n",
       "      <td>1.354996</td>\n",
       "      <td>0.096675</td>\n",
       "      <td>5.375132</td>\n",
       "    </tr>\n",
       "  </tbody>\n",
       "</table>\n",
       "<p>10963 rows × 5 columns</p>\n",
       "</div>"
      ],
      "text/plain": [
       "           사망자수      중상자수      경상자수      부상자수      ECLO\n",
       "0      0.028722  0.445947  0.571899  0.047743  4.280390\n",
       "1      0.031110  0.381270  0.597757  0.065764  4.076479\n",
       "2      0.009522  0.308217  1.263781  0.098719  5.526371\n",
       "3      0.012303  0.257018  1.331500  0.107679  5.510296\n",
       "4      0.009522  0.308217  1.263781  0.098719  5.526371\n",
       "...         ...       ...       ...       ...       ...\n",
       "10958  0.022926  0.347062  1.860155  0.162095  7.707131\n",
       "10959  0.012303  0.257018  1.331500  0.107679  5.510296\n",
       "10960  0.012303  0.257018  1.331500  0.107679  5.510296\n",
       "10961  0.007837  0.227020  1.354996  0.096675  5.375132\n",
       "10962  0.007837  0.227020  1.354996  0.096675  5.375132\n",
       "\n",
       "[10963 rows x 5 columns]"
      ]
     },
     "execution_count": 41,
     "metadata": {},
     "output_type": "execute_result"
    }
   ],
   "source": [
    "pred_test = xgb.predict(test_sc)\n",
    "pred_test = pd.DataFrame(pred_test)\n",
    "pred_test = pred_test.rename(columns={0:'사망자수', 1:'중상자수', 2:'경상자수', 3:'부상자수'})\n",
    "pred_test['ECLO'] = (pred_test['사망자수']*10) + (pred_test['중상자수']*5) + (pred_test['경상자수']*3) + (pred_test['부상자수']*1)\n",
    "pred_test"
   ]
  },
  {
   "cell_type": "code",
   "execution_count": 42,
   "metadata": {},
   "outputs": [],
   "source": [
    "sample.drop('ECLO', axis=1, inplace=True)\n",
    "sample['ECLO'] = pred_test['ECLO']\n",
    "sample.to_csv('submission9_xgb4_2.csv', index=False)"
   ]
  },
  {
   "cell_type": "code",
   "execution_count": 18,
   "metadata": {},
   "outputs": [
    {
     "name": "stdout",
     "output_type": "stream",
     "text": [
      "Best Parameters: {'estimator__max_depth': 5, 'estimator__min_samples_split': 2, 'estimator__n_estimators': 100}\n",
      "Best Score: -0.3321994321074865\n"
     ]
    }
   ],
   "source": [
    "from sklearn.ensemble import RandomForestRegressor\n",
    "\n",
    "# 랜덤 포레스트 회귀 모델 초기화\n",
    "rf_model = RandomForestRegressor()\n",
    "\n",
    "# 다중 출력 회귀를 위한 래퍼\n",
    "multioutput_model = MultiOutputRegressor(rf_model)\n",
    "\n",
    "# 그리드 서치를 위한 파라미터 설정\n",
    "parameters = {\n",
    "    'estimator__n_estimators': [100, 300, 500],\n",
    "    'estimator__max_depth': [3, 5, 7],\n",
    "    'estimator__min_samples_split': [1 ,2, 5]\n",
    "}\n",
    "\n",
    "# 그리드 서치 객체 생성\n",
    "grid_search = GridSearchCV(multioutput_model, parameters, cv=3, scoring='neg_mean_squared_error')\n",
    "\n",
    "# 그리드 서치를 통한 모델 훈련\n",
    "grid_search.fit(X_train_sc, y_train)\n",
    "\n",
    "# 최적의 파라미터와 점수 출력\n",
    "best_parameters = grid_search.best_params_\n",
    "best_score = grid_search.best_score_\n",
    "\n",
    "print(f\"Best Parameters: {best_parameters}\")\n",
    "print(f\"Best Score: {best_score}\")\n",
    "\n",
    "# 최적의 파라미터를 가진 모델을 사용하여 테스트 데이터에 대한 예측\n",
    "best_model = grid_search.best_estimator_\n",
    "predictions = best_model.predict(X_test_sc)\n"
   ]
  },
  {
   "cell_type": "code",
   "execution_count": 37,
   "metadata": {},
   "outputs": [
    {
     "data": {
      "text/plain": [
       "0.2966231445989728"
      ]
     },
     "execution_count": 37,
     "metadata": {},
     "output_type": "execute_result"
    }
   ],
   "source": [
    "xgb = MultiOutputRegressor(RandomForestRegressor(n_estimators=500, max_depth=5, min_samples_split=2))\n",
    "xgb.fit(X2_train_sc, y2_train)\n",
    "predictions = xgb.predict(X2_test_sc)\n",
    "calculate_rmsle(y2_test, predictions)"
   ]
  },
  {
   "cell_type": "code",
   "execution_count": 100,
   "metadata": {},
   "outputs": [
    {
     "data": {
      "text/html": [
       "<div>\n",
       "<style scoped>\n",
       "    .dataframe tbody tr th:only-of-type {\n",
       "        vertical-align: middle;\n",
       "    }\n",
       "\n",
       "    .dataframe tbody tr th {\n",
       "        vertical-align: top;\n",
       "    }\n",
       "\n",
       "    .dataframe thead th {\n",
       "        text-align: right;\n",
       "    }\n",
       "</style>\n",
       "<table border=\"1\" class=\"dataframe\">\n",
       "  <thead>\n",
       "    <tr style=\"text-align: right;\">\n",
       "      <th></th>\n",
       "      <th>사망자수</th>\n",
       "      <th>중상자수</th>\n",
       "      <th>경상자수</th>\n",
       "      <th>부상자수</th>\n",
       "      <th>ECLO</th>\n",
       "    </tr>\n",
       "  </thead>\n",
       "  <tbody>\n",
       "    <tr>\n",
       "      <th>0</th>\n",
       "      <td>0.026509</td>\n",
       "      <td>0.396197</td>\n",
       "      <td>0.576100</td>\n",
       "      <td>0.053055</td>\n",
       "      <td>4.027424</td>\n",
       "    </tr>\n",
       "    <tr>\n",
       "      <th>1</th>\n",
       "      <td>0.026209</td>\n",
       "      <td>0.352960</td>\n",
       "      <td>0.588185</td>\n",
       "      <td>0.089077</td>\n",
       "      <td>3.880525</td>\n",
       "    </tr>\n",
       "    <tr>\n",
       "      <th>2</th>\n",
       "      <td>0.004164</td>\n",
       "      <td>0.310099</td>\n",
       "      <td>1.206833</td>\n",
       "      <td>0.131921</td>\n",
       "      <td>5.344553</td>\n",
       "    </tr>\n",
       "    <tr>\n",
       "      <th>3</th>\n",
       "      <td>0.004243</td>\n",
       "      <td>0.217613</td>\n",
       "      <td>1.244224</td>\n",
       "      <td>0.120983</td>\n",
       "      <td>4.984154</td>\n",
       "    </tr>\n",
       "    <tr>\n",
       "      <th>4</th>\n",
       "      <td>0.004164</td>\n",
       "      <td>0.310099</td>\n",
       "      <td>1.206833</td>\n",
       "      <td>0.131921</td>\n",
       "      <td>5.344553</td>\n",
       "    </tr>\n",
       "    <tr>\n",
       "      <th>...</th>\n",
       "      <td>...</td>\n",
       "      <td>...</td>\n",
       "      <td>...</td>\n",
       "      <td>...</td>\n",
       "      <td>...</td>\n",
       "    </tr>\n",
       "    <tr>\n",
       "      <th>10958</th>\n",
       "      <td>0.003322</td>\n",
       "      <td>0.228429</td>\n",
       "      <td>1.458153</td>\n",
       "      <td>0.103750</td>\n",
       "      <td>5.653575</td>\n",
       "    </tr>\n",
       "    <tr>\n",
       "      <th>10959</th>\n",
       "      <td>0.004243</td>\n",
       "      <td>0.217613</td>\n",
       "      <td>1.244224</td>\n",
       "      <td>0.120983</td>\n",
       "      <td>4.984154</td>\n",
       "    </tr>\n",
       "    <tr>\n",
       "      <th>10960</th>\n",
       "      <td>0.004243</td>\n",
       "      <td>0.217613</td>\n",
       "      <td>1.244224</td>\n",
       "      <td>0.120983</td>\n",
       "      <td>4.984154</td>\n",
       "    </tr>\n",
       "    <tr>\n",
       "      <th>10961</th>\n",
       "      <td>0.002879</td>\n",
       "      <td>0.216920</td>\n",
       "      <td>1.250912</td>\n",
       "      <td>0.126391</td>\n",
       "      <td>4.992524</td>\n",
       "    </tr>\n",
       "    <tr>\n",
       "      <th>10962</th>\n",
       "      <td>0.002879</td>\n",
       "      <td>0.216920</td>\n",
       "      <td>1.250912</td>\n",
       "      <td>0.126391</td>\n",
       "      <td>4.992524</td>\n",
       "    </tr>\n",
       "  </tbody>\n",
       "</table>\n",
       "<p>10963 rows × 5 columns</p>\n",
       "</div>"
      ],
      "text/plain": [
       "           사망자수      중상자수      경상자수      부상자수      ECLO\n",
       "0      0.026509  0.396197  0.576100  0.053055  4.027424\n",
       "1      0.026209  0.352960  0.588185  0.089077  3.880525\n",
       "2      0.004164  0.310099  1.206833  0.131921  5.344553\n",
       "3      0.004243  0.217613  1.244224  0.120983  4.984154\n",
       "4      0.004164  0.310099  1.206833  0.131921  5.344553\n",
       "...         ...       ...       ...       ...       ...\n",
       "10958  0.003322  0.228429  1.458153  0.103750  5.653575\n",
       "10959  0.004243  0.217613  1.244224  0.120983  4.984154\n",
       "10960  0.004243  0.217613  1.244224  0.120983  4.984154\n",
       "10961  0.002879  0.216920  1.250912  0.126391  4.992524\n",
       "10962  0.002879  0.216920  1.250912  0.126391  4.992524\n",
       "\n",
       "[10963 rows x 5 columns]"
      ]
     },
     "execution_count": 100,
     "metadata": {},
     "output_type": "execute_result"
    }
   ],
   "source": [
    "pred_test = xgb.predict(test_sc)\n",
    "pred_test = pd.DataFrame(pred_test)\n",
    "pred_test = pred_test.rename(columns={0:'사망자수', 1:'중상자수', 2:'경상자수', 3:'부상자수'})\n",
    "pred_test['ECLO'] = (pred_test['사망자수']*10) + (pred_test['중상자수']*5) + (pred_test['경상자수']*3) + (pred_test['부상자수']*1)\n",
    "pred_test"
   ]
  },
  {
   "cell_type": "code",
   "execution_count": 89,
   "metadata": {},
   "outputs": [],
   "source": [
    "sample.drop('ECLO', axis=1, inplace=True)\n",
    "sample['ECLO'] = pred_test['ECLO']\n",
    "sample.to_csv('submission7_rf4_.csv', index=False)"
   ]
  },
  {
   "cell_type": "code",
   "execution_count": null,
   "metadata": {},
   "outputs": [],
   "source": []
  }
 ],
 "metadata": {
  "kernelspec": {
   "display_name": "tensor",
   "language": "python",
   "name": "python3"
  },
  "language_info": {
   "codemirror_mode": {
    "name": "ipython",
    "version": 3
   },
   "file_extension": ".py",
   "mimetype": "text/x-python",
   "name": "python",
   "nbconvert_exporter": "python",
   "pygments_lexer": "ipython3",
   "version": "3.11.1"
  }
 },
 "nbformat": 4,
 "nbformat_minor": 2
}
